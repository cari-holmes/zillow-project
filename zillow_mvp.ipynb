{
 "cells": [
  {
   "cell_type": "markdown",
   "metadata": {},
   "source": [
    "# Estimate Home Values in Zillow"
   ]
  },
  {
   "cell_type": "markdown",
   "metadata": {},
   "source": [
    "## Goals:\n",
    "\n",
    "Your customer is the Zillow data science team. State your goals as if you were delivering this to Zillow. They have asked for something from you and you are basically communicating in a more concise way, and very clearly, the goals as you understand them and as you have taken and acted upon through your research."
   ]
  },
  {
   "cell_type": "markdown",
   "metadata": {},
   "source": [
    "#### Brainstorming Process: \n",
    "In preparing for this project, I first explored the SQL database where the data was located. I sifted through the information to gain a better sense of what information I would need to pull in, in order to estimate home values. I then decided that I would pull in bedroom count, bathroom count, and square footage to compare to a baseline model. I chose these three features because they were simple and after being ran through the model, proved to show improvement in predictions than the baseline model."
   ]
  },
  {
   "cell_type": "markdown",
   "metadata": {},
   "source": [
    "## Import\n",
    "Import the necessay libraries needed to create a baseline model, and then predict home values. Add libraries as needed throughout the process."
   ]
  },
  {
   "cell_type": "code",
   "execution_count": 1,
   "metadata": {},
   "outputs": [],
   "source": [
    "import pandas as pd\n",
    "import numpy as np\n",
    "import matplotlib.pyplot as plt\n",
    "import seaborn as sns\n",
    "from sklearn.model_selection import train_test_split\n",
    "from sklearn.preprocessing import StandardScaler, MinMaxScaler\n",
    "from sklearn.metrics import mean_squared_error, r2_score, explained_variance_score\n",
    "from sklearn.linear_model import LinearRegression\n",
    "from math import sqrt\n",
    "import statsmodels.api as sm\n",
    "import warnings\n",
    "warnings.filterwarnings(\"ignore\")\n",
    "\n",
    "import env\n",
    "import util\n",
    "import acquire\n",
    "import split_scale\n",
    "import features\n",
    "import model"
   ]
  },
  {
   "cell_type": "markdown",
   "metadata": {},
   "source": [
    "First step I loaded the cleaned-up Zillow data from a wrangle.py file, then explored the data for a better understanding of what I am working with. The clean up proccess eliminated null values and changed data types to types more appropriate for the column contents."
   ]
  },
  {
   "cell_type": "code",
   "execution_count": 2,
   "metadata": {},
   "outputs": [
    {
     "data": {
      "text/plain": [
       "(14892, 7)"
      ]
     },
     "execution_count": 2,
     "metadata": {},
     "output_type": "execute_result"
    }
   ],
   "source": [
    "df = acquire.acquire_zillow()\n",
    "df.shape"
   ]
  },
  {
   "cell_type": "markdown",
   "metadata": {},
   "source": [
    "Summary Statistics of data"
   ]
  },
  {
   "cell_type": "code",
   "execution_count": 3,
   "metadata": {},
   "outputs": [
    {
     "data": {
      "text/html": [
       "<div>\n",
       "<style scoped>\n",
       "    .dataframe tbody tr th:only-of-type {\n",
       "        vertical-align: middle;\n",
       "    }\n",
       "\n",
       "    .dataframe tbody tr th {\n",
       "        vertical-align: top;\n",
       "    }\n",
       "\n",
       "    .dataframe thead th {\n",
       "        text-align: right;\n",
       "    }\n",
       "</style>\n",
       "<table border=\"1\" class=\"dataframe\">\n",
       "  <thead>\n",
       "    <tr style=\"text-align: right;\">\n",
       "      <th></th>\n",
       "      <th>bedroom</th>\n",
       "      <th>bathroom</th>\n",
       "      <th>square_feet</th>\n",
       "      <th>tax_amount</th>\n",
       "      <th>home_value</th>\n",
       "      <th>fips</th>\n",
       "    </tr>\n",
       "  </thead>\n",
       "  <tbody>\n",
       "    <tr>\n",
       "      <th>count</th>\n",
       "      <td>14892.000000</td>\n",
       "      <td>14892.000000</td>\n",
       "      <td>14892.000000</td>\n",
       "      <td>14892.000000</td>\n",
       "      <td>1.489200e+04</td>\n",
       "      <td>14892.000000</td>\n",
       "    </tr>\n",
       "    <tr>\n",
       "      <th>mean</th>\n",
       "      <td>3.316143</td>\n",
       "      <td>2.324302</td>\n",
       "      <td>1938.497045</td>\n",
       "      <td>6564.370992</td>\n",
       "      <td>5.396460e+05</td>\n",
       "      <td>6049.448429</td>\n",
       "    </tr>\n",
       "    <tr>\n",
       "      <th>std</th>\n",
       "      <td>0.926831</td>\n",
       "      <td>1.014254</td>\n",
       "      <td>992.488089</td>\n",
       "      <td>8428.010576</td>\n",
       "      <td>7.290735e+05</td>\n",
       "      <td>21.272489</td>\n",
       "    </tr>\n",
       "    <tr>\n",
       "      <th>min</th>\n",
       "      <td>1.000000</td>\n",
       "      <td>1.000000</td>\n",
       "      <td>300.000000</td>\n",
       "      <td>51.260000</td>\n",
       "      <td>1.050400e+04</td>\n",
       "      <td>6037.000000</td>\n",
       "    </tr>\n",
       "    <tr>\n",
       "      <th>25%</th>\n",
       "      <td>3.000000</td>\n",
       "      <td>2.000000</td>\n",
       "      <td>1276.000000</td>\n",
       "      <td>2710.622500</td>\n",
       "      <td>1.991870e+05</td>\n",
       "      <td>6037.000000</td>\n",
       "    </tr>\n",
       "    <tr>\n",
       "      <th>50%</th>\n",
       "      <td>3.000000</td>\n",
       "      <td>2.000000</td>\n",
       "      <td>1678.000000</td>\n",
       "      <td>4762.040000</td>\n",
       "      <td>3.847785e+05</td>\n",
       "      <td>6037.000000</td>\n",
       "    </tr>\n",
       "    <tr>\n",
       "      <th>75%</th>\n",
       "      <td>4.000000</td>\n",
       "      <td>3.000000</td>\n",
       "      <td>2342.250000</td>\n",
       "      <td>7637.557500</td>\n",
       "      <td>6.435572e+05</td>\n",
       "      <td>6059.000000</td>\n",
       "    </tr>\n",
       "    <tr>\n",
       "      <th>max</th>\n",
       "      <td>11.000000</td>\n",
       "      <td>11.000000</td>\n",
       "      <td>15450.000000</td>\n",
       "      <td>276797.830000</td>\n",
       "      <td>2.385837e+07</td>\n",
       "      <td>6111.000000</td>\n",
       "    </tr>\n",
       "  </tbody>\n",
       "</table>\n",
       "</div>"
      ],
      "text/plain": [
       "            bedroom      bathroom   square_feet     tax_amount    home_value  \\\n",
       "count  14892.000000  14892.000000  14892.000000   14892.000000  1.489200e+04   \n",
       "mean       3.316143      2.324302   1938.497045    6564.370992  5.396460e+05   \n",
       "std        0.926831      1.014254    992.488089    8428.010576  7.290735e+05   \n",
       "min        1.000000      1.000000    300.000000      51.260000  1.050400e+04   \n",
       "25%        3.000000      2.000000   1276.000000    2710.622500  1.991870e+05   \n",
       "50%        3.000000      2.000000   1678.000000    4762.040000  3.847785e+05   \n",
       "75%        4.000000      3.000000   2342.250000    7637.557500  6.435572e+05   \n",
       "max       11.000000     11.000000  15450.000000  276797.830000  2.385837e+07   \n",
       "\n",
       "               fips  \n",
       "count  14892.000000  \n",
       "mean    6049.448429  \n",
       "std       21.272489  \n",
       "min     6037.000000  \n",
       "25%     6037.000000  \n",
       "50%     6037.000000  \n",
       "75%     6059.000000  \n",
       "max     6111.000000  "
      ]
     },
     "execution_count": 3,
     "metadata": {},
     "output_type": "execute_result"
    }
   ],
   "source": [
    "df.describe()"
   ]
  },
  {
   "cell_type": "markdown",
   "metadata": {},
   "source": [
    "Summary Information of data frame"
   ]
  },
  {
   "cell_type": "code",
   "execution_count": 4,
   "metadata": {},
   "outputs": [
    {
     "name": "stdout",
     "output_type": "stream",
     "text": [
      "<class 'pandas.core.frame.DataFrame'>\n",
      "Int64Index: 14892 entries, 0 to 14892\n",
      "Data columns (total 7 columns):\n",
      "bedroom          14892 non-null int64\n",
      "bathroom         14892 non-null float64\n",
      "square_feet      14892 non-null int64\n",
      "tax_amount       14892 non-null float64\n",
      "home_value       14892 non-null int64\n",
      "property_type    14892 non-null object\n",
      "fips             14892 non-null int64\n",
      "dtypes: float64(2), int64(4), object(1)\n",
      "memory usage: 930.8+ KB\n"
     ]
    }
   ],
   "source": [
    "df.info()"
   ]
  },
  {
   "cell_type": "markdown",
   "metadata": {},
   "source": [
    "## Splitting the Data\n",
    "I used a split function I created, located in a split_scale.py file, to split the data into two peices, train and test. The training data will be 80% of the data and the remaining 20% will be for the test data. I set a random seed at '123'."
   ]
  },
  {
   "cell_type": "code",
   "execution_count": 5,
   "metadata": {},
   "outputs": [
    {
     "data": {
      "text/plain": [
       "(       bedroom  bathroom  square_feet  tax_amount  home_value  \\\n",
       " 7040         2       3.0         2353    13560.29     1121784   \n",
       " 4866         3       1.0         1085     2581.75      194062   \n",
       " 2280         3       2.0         1873     4301.71      339756   \n",
       " 12524        4       3.0         2082     4443.44      376676   \n",
       " 10726        4       3.5         4364     8876.72      875357   \n",
       " \n",
       "                    property_type  fips  \n",
       " 7040   Single Family Residential  6037  \n",
       " 4866   Single Family Residential  6037  \n",
       " 2280   Single Family Residential  6037  \n",
       " 12524  Single Family Residential  6059  \n",
       " 10726  Single Family Residential  6059  ,\n",
       "        bedroom  bathroom  square_feet  tax_amount  home_value  \\\n",
       " 13487        5       3.0         2504     6257.24      534030   \n",
       " 6070         3       1.0         1044      882.97       32666   \n",
       " 4688         3       2.0         1215     2437.92      185287   \n",
       " 8381         2       1.0         1082     5066.89      408898   \n",
       " 6079         3       2.0         1453     3589.25      288579   \n",
       " \n",
       "                    property_type  fips  \n",
       " 13487  Single Family Residential  6059  \n",
       " 6070   Single Family Residential  6037  \n",
       " 4688   Single Family Residential  6037  \n",
       " 8381   Single Family Residential  6037  \n",
       " 6079   Single Family Residential  6037  )"
      ]
     },
     "execution_count": 5,
     "metadata": {},
     "output_type": "execute_result"
    }
   ],
   "source": [
    "train, test = split_scale.split_my_data(df, train_pct=.80, random_state=123)\n",
    "train.head(), test.head()"
   ]
  },
  {
   "cell_type": "markdown",
   "metadata": {},
   "source": [
    "I then split the train and test pieces even further to establish an 'x' and 'y' variable for both. To establish a baseline, I chose to look at three features in particular, the bedroom count, the bathroom count, and the total square footage of the house. I am assigning the home value as my target variable, since that is what I am looking to predict. "
   ]
  },
  {
   "cell_type": "code",
   "execution_count": 6,
   "metadata": {},
   "outputs": [
    {
     "name": "stdout",
     "output_type": "stream",
     "text": [
      "       bedroom  bathroom  square_feet\n",
      "7040         2       3.0         2353\n",
      "4866         3       1.0         1085\n",
      "2280         3       2.0         1873\n",
      "12524        4       3.0         2082\n",
      "10726        4       3.5         4364\n",
      "       home_value\n",
      "7040      1121784\n",
      "4866       194062\n",
      "2280       339756\n",
      "12524      376676\n",
      "10726      875357\n"
     ]
    }
   ],
   "source": [
    "x_train = train[['bedroom', 'bathroom', 'square_feet']]\n",
    "y_train = train[['home_value']]\n",
    "x_test = train[['bedroom', 'bathroom', 'square_feet']]\n",
    "y_test = train[['home_value']]\n",
    "print(x_train.head())\n",
    "print(y_train.head())"
   ]
  },
  {
   "cell_type": "markdown",
   "metadata": {},
   "source": [
    "## Scale the data \n",
    "I am using the Standard Scaler function I created, located in a split_scale.py file, to scale the data so the difference between square feet and the bedroom/bathroom count can work from the same scale. I am only scaling the x_train and x_test features since I will not be putting my target values into my predictive model, I will instead be predicting those target values with the scaled features."
   ]
  },
  {
   "cell_type": "code",
   "execution_count": 7,
   "metadata": {},
   "outputs": [
    {
     "data": {
      "text/plain": [
       "StandardScaler(copy=True, with_mean=True, with_std=True)"
      ]
     },
     "execution_count": 7,
     "metadata": {},
     "output_type": "execute_result"
    }
   ],
   "source": [
    "scaler, x_train, x_test = split_scale.standard_scaler(x_train, x_test)\n",
    "scaler"
   ]
  },
  {
   "cell_type": "code",
   "execution_count": 8,
   "metadata": {},
   "outputs": [
    {
     "data": {
      "text/html": [
       "<div>\n",
       "<style scoped>\n",
       "    .dataframe tbody tr th:only-of-type {\n",
       "        vertical-align: middle;\n",
       "    }\n",
       "\n",
       "    .dataframe tbody tr th {\n",
       "        vertical-align: top;\n",
       "    }\n",
       "\n",
       "    .dataframe thead th {\n",
       "        text-align: right;\n",
       "    }\n",
       "</style>\n",
       "<table border=\"1\" class=\"dataframe\">\n",
       "  <thead>\n",
       "    <tr style=\"text-align: right;\">\n",
       "      <th></th>\n",
       "      <th>bedroom</th>\n",
       "      <th>bathroom</th>\n",
       "      <th>square_feet</th>\n",
       "    </tr>\n",
       "  </thead>\n",
       "  <tbody>\n",
       "    <tr>\n",
       "      <th>7040</th>\n",
       "      <td>-1.410430</td>\n",
       "      <td>0.661645</td>\n",
       "      <td>0.406343</td>\n",
       "    </tr>\n",
       "    <tr>\n",
       "      <th>4866</th>\n",
       "      <td>-0.338366</td>\n",
       "      <td>-1.299218</td>\n",
       "      <td>-0.853773</td>\n",
       "    </tr>\n",
       "    <tr>\n",
       "      <th>2280</th>\n",
       "      <td>-0.338366</td>\n",
       "      <td>-0.318786</td>\n",
       "      <td>-0.070673</td>\n",
       "    </tr>\n",
       "    <tr>\n",
       "      <th>12524</th>\n",
       "      <td>0.733697</td>\n",
       "      <td>0.661645</td>\n",
       "      <td>0.137028</td>\n",
       "    </tr>\n",
       "    <tr>\n",
       "      <th>10726</th>\n",
       "      <td>0.733697</td>\n",
       "      <td>1.151861</td>\n",
       "      <td>2.404839</td>\n",
       "    </tr>\n",
       "  </tbody>\n",
       "</table>\n",
       "</div>"
      ],
      "text/plain": [
       "        bedroom  bathroom  square_feet\n",
       "7040  -1.410430  0.661645     0.406343\n",
       "4866  -0.338366 -1.299218    -0.853773\n",
       "2280  -0.338366 -0.318786    -0.070673\n",
       "12524  0.733697  0.661645     0.137028\n",
       "10726  0.733697  1.151861     2.404839"
      ]
     },
     "execution_count": 8,
     "metadata": {},
     "output_type": "execute_result"
    }
   ],
   "source": [
    "x_train.head()"
   ]
  },
  {
   "cell_type": "markdown",
   "metadata": {},
   "source": [
    "## Exploration\n",
    "\n",
    "Here is a pair plot of all three of my fetures to determine if there is any relation. They are all positively correlated, so I will move forward with them."
   ]
  },
  {
   "cell_type": "code",
   "execution_count": 45,
   "metadata": {},
   "outputs": [
    {
     "data": {
      "text/plain": [
       "<seaborn.axisgrid.PairGrid at 0x1c29302668>"
      ]
     },
     "execution_count": 45,
     "metadata": {},
     "output_type": "execute_result"
    },
    {
     "data": {
      "image/png": "[encoded data removed]",
      "text/plain": [
       "<Figure size 540x540 with 12 Axes>"
      ]
     },
     "metadata": {
      "needs_background": "light"
     },
     "output_type": "display_data"
    }
   ],
   "source": [
    "g = sns.PairGrid(x_train)\n",
    "g.map_diag(plt.hist)\n",
    "g.map_offdiag(plt.scatter)"
   ]
  },
  {
   "cell_type": "markdown",
   "metadata": {},
   "source": [
    "## Correlation\n",
    "After scaling my data, I will look at the correlation between my features, bedroom, bathroom, and square footage. I will do so using a heat map to look at the relationships."
   ]
  },
  {
   "cell_type": "code",
   "execution_count": 10,
   "metadata": {},
   "outputs": [
    {
     "data": {
      "image/png": "[encoded data removed]",
      "text/plain": [
       "<Figure size 432x360 with 2 Axes>"
      ]
     },
     "metadata": {
      "needs_background": "light"
     },
     "output_type": "display_data"
    }
   ],
   "source": [
    "plt.figure(figsize=(6,5))\n",
    "sns.heatmap(x_train.corr(), annot=True, cmap=plt.cm.Blues)\n",
    "plt.show()"
   ]
  },
  {
   "cell_type": "markdown",
   "metadata": {},
   "source": [
    "## T-Test\n",
    "I will use an OLS model to find the T-test score of each feature in my model. After plugging in my y_train and x_train(scaled), I see that the P-values are lower than the t-values. \n",
    "\n",
    "- Null Hypothesis: The three features have no effect on better predicting home values.\n",
    "\n",
    "Since the P-values are lower than my alpha, set at 0.05, I reject the null hypothesis."
   ]
  },
  {
   "cell_type": "code",
   "execution_count": 11,
   "metadata": {},
   "outputs": [
    {
     "data": {
      "text/html": [
       "<table class=\"simpletable\">\n",
       "<caption>OLS Regression Results</caption>\n",
       "<tr>\n",
       "  <th>Dep. Variable:</th>       <td>home_value</td>    <th>  R-squared (uncentered):</th>       <td>   0.251</td>  \n",
       "</tr>\n",
       "<tr>\n",
       "  <th>Model:</th>                   <td>OLS</td>       <th>  Adj. R-squared (uncentered):</th>  <td>   0.251</td>  \n",
       "</tr>\n",
       "<tr>\n",
       "  <th>Method:</th>             <td>Least Squares</td>  <th>  F-statistic:       </th>           <td>   1330.</td>  \n",
       "</tr>\n",
       "<tr>\n",
       "  <th>Date:</th>             <td>Sun, 20 Oct 2019</td> <th>  Prob (F-statistic):</th>            <td>  0.00</td>   \n",
       "</tr>\n",
       "<tr>\n",
       "  <th>Time:</th>                 <td>21:37:52</td>     <th>  Log-Likelihood:    </th>          <td>-1.7895e+05</td>\n",
       "</tr>\n",
       "<tr>\n",
       "  <th>No. Observations:</th>      <td> 11913</td>      <th>  AIC:               </th>           <td>3.579e+05</td> \n",
       "</tr>\n",
       "<tr>\n",
       "  <th>Df Residuals:</th>          <td> 11910</td>      <th>  BIC:               </th>           <td>3.579e+05</td> \n",
       "</tr>\n",
       "<tr>\n",
       "  <th>Df Model:</th>              <td>     3</td>      <th>                     </th>               <td> </td>     \n",
       "</tr>\n",
       "<tr>\n",
       "  <th>Covariance Type:</th>      <td>nonrobust</td>    <th>                     </th>               <td> </td>     \n",
       "</tr>\n",
       "</table>\n",
       "<table class=\"simpletable\">\n",
       "<tr>\n",
       "       <td></td>          <th>coef</th>     <th>std err</th>      <th>t</th>      <th>P>|t|</th>  <th>[0.025</th>    <th>0.975]</th>  \n",
       "</tr>\n",
       "<tr>\n",
       "  <th>bedroom</th>     <td>-1.431e+05</td> <td> 9875.973</td> <td>  -14.491</td> <td> 0.000</td> <td>-1.62e+05</td> <td>-1.24e+05</td>\n",
       "</tr>\n",
       "<tr>\n",
       "  <th>bathroom</th>    <td> 5.025e+04</td> <td> 1.47e+04</td> <td>    3.408</td> <td> 0.001</td> <td> 2.13e+04</td> <td> 7.92e+04</td>\n",
       "</tr>\n",
       "<tr>\n",
       "  <th>square_feet</th> <td> 5.024e+05</td> <td> 1.46e+04</td> <td>   34.511</td> <td> 0.000</td> <td> 4.74e+05</td> <td> 5.31e+05</td>\n",
       "</tr>\n",
       "</table>\n",
       "<table class=\"simpletable\">\n",
       "<tr>\n",
       "  <th>Omnibus:</th>       <td>19970.509</td> <th>  Durbin-Watson:     </th>   <td>   1.078</td>  \n",
       "</tr>\n",
       "<tr>\n",
       "  <th>Prob(Omnibus):</th>  <td> 0.000</td>   <th>  Jarque-Bera (JB):  </th> <td>36688147.040</td>\n",
       "</tr>\n",
       "<tr>\n",
       "  <th>Skew:</th>           <td>11.065</td>   <th>  Prob(JB):          </th>   <td>    0.00</td>  \n",
       "</tr>\n",
       "<tr>\n",
       "  <th>Kurtosis:</th>       <td>273.966</td>  <th>  Cond. No.          </th>   <td>    4.08</td>  \n",
       "</tr>\n",
       "</table><br/><br/>Warnings:<br/>[1] Standard Errors assume that the covariance matrix of the errors is correctly specified."
      ],
      "text/plain": [
       "<class 'statsmodels.iolib.summary.Summary'>\n",
       "\"\"\"\n",
       "                                 OLS Regression Results                                \n",
       "=======================================================================================\n",
       "Dep. Variable:             home_value   R-squared (uncentered):                   0.251\n",
       "Model:                            OLS   Adj. R-squared (uncentered):              0.251\n",
       "Method:                 Least Squares   F-statistic:                              1330.\n",
       "Date:                Sun, 20 Oct 2019   Prob (F-statistic):                        0.00\n",
       "Time:                        21:37:52   Log-Likelihood:                     -1.7895e+05\n",
       "No. Observations:               11913   AIC:                                  3.579e+05\n",
       "Df Residuals:                   11910   BIC:                                  3.579e+05\n",
       "Df Model:                           3                                                  \n",
       "Covariance Type:            nonrobust                                                  \n",
       "===============================================================================\n",
       "                  coef    std err          t      P>|t|      [0.025      0.975]\n",
       "-------------------------------------------------------------------------------\n",
       "bedroom     -1.431e+05   9875.973    -14.491      0.000   -1.62e+05   -1.24e+05\n",
       "bathroom     5.025e+04   1.47e+04      3.408      0.001    2.13e+04    7.92e+04\n",
       "square_feet  5.024e+05   1.46e+04     34.511      0.000    4.74e+05    5.31e+05\n",
       "==============================================================================\n",
       "Omnibus:                    19970.509   Durbin-Watson:                   1.078\n",
       "Prob(Omnibus):                  0.000   Jarque-Bera (JB):         36688147.040\n",
       "Skew:                          11.065   Prob(JB):                         0.00\n",
       "Kurtosis:                     273.966   Cond. No.                         4.08\n",
       "==============================================================================\n",
       "\n",
       "Warnings:\n",
       "[1] Standard Errors assume that the covariance matrix of the errors is correctly specified.\n",
       "\"\"\""
      ]
     },
     "execution_count": 11,
     "metadata": {},
     "output_type": "execute_result"
    }
   ],
   "source": [
    "ols_model = sm.OLS(y_train, x_train).fit()\n",
    "ols_model.summary()"
   ]
  },
  {
   "cell_type": "markdown",
   "metadata": {},
   "source": [
    "## Modeling the data"
   ]
  },
  {
   "cell_type": "markdown",
   "metadata": {},
   "source": [
    "Using a modeling function in model.py, I create a new data frame, 'predictions', to establish a baseline model by taking the mean of my target, home value. I then plug my scaled data into a Linear Regression model within the function and that is added to the newly created data frame. The data frame then outputs the target predictions."
   ]
  },
  {
   "cell_type": "code",
   "execution_count": 42,
   "metadata": {},
   "outputs": [],
   "source": [
    "predictions = model.modeling_function(x_train, x_test, y_train, y_test)"
   ]
  },
  {
   "cell_type": "code",
   "execution_count": 43,
   "metadata": {},
   "outputs": [
    {
     "data": {
      "text/html": [
       "<div>\n",
       "<style scoped>\n",
       "    .dataframe tbody tr th:only-of-type {\n",
       "        vertical-align: middle;\n",
       "    }\n",
       "\n",
       "    .dataframe tbody tr th {\n",
       "        vertical-align: top;\n",
       "    }\n",
       "\n",
       "    .dataframe thead th {\n",
       "        text-align: right;\n",
       "    }\n",
       "</style>\n",
       "<table border=\"1\" class=\"dataframe\">\n",
       "  <thead>\n",
       "    <tr style=\"text-align: right;\">\n",
       "      <th></th>\n",
       "      <th>actual_value</th>\n",
       "      <th>baseline</th>\n",
       "      <th>model1</th>\n",
       "    </tr>\n",
       "  </thead>\n",
       "  <tbody>\n",
       "    <tr>\n",
       "      <th>0</th>\n",
       "      <td>1121784</td>\n",
       "      <td>544122.62948</td>\n",
       "      <td>9.833761e+05</td>\n",
       "    </tr>\n",
       "    <tr>\n",
       "      <th>1</th>\n",
       "      <td>194062</td>\n",
       "      <td>544122.62948</td>\n",
       "      <td>9.831026e+04</td>\n",
       "    </tr>\n",
       "    <tr>\n",
       "      <th>2</th>\n",
       "      <td>339756</td>\n",
       "      <td>544122.62948</td>\n",
       "      <td>5.410204e+05</td>\n",
       "    </tr>\n",
       "    <tr>\n",
       "      <th>3</th>\n",
       "      <td>376676</td>\n",
       "      <td>544122.62948</td>\n",
       "      <td>5.412151e+05</td>\n",
       "    </tr>\n",
       "    <tr>\n",
       "      <th>4</th>\n",
       "      <td>875357</td>\n",
       "      <td>544122.62948</td>\n",
       "      <td>1.705229e+06</td>\n",
       "    </tr>\n",
       "  </tbody>\n",
       "</table>\n",
       "</div>"
      ],
      "text/plain": [
       "   actual_value      baseline        model1\n",
       "0       1121784  544122.62948  9.833761e+05\n",
       "1        194062  544122.62948  9.831026e+04\n",
       "2        339756  544122.62948  5.410204e+05\n",
       "3        376676  544122.62948  5.412151e+05\n",
       "4        875357  544122.62948  1.705229e+06"
      ]
     },
     "execution_count": 43,
     "metadata": {},
     "output_type": "execute_result"
    }
   ],
   "source": [
    "predictions.head()"
   ]
  },
  {
   "cell_type": "markdown",
   "metadata": {},
   "source": [
    "#### Evaluate scaled model compared to the baseline model."
   ]
  },
  {
   "cell_type": "code",
   "execution_count": 14,
   "metadata": {},
   "outputs": [
    {
     "name": "stdout",
     "output_type": "stream",
     "text": [
      "575225329640.1548 6852659352003164.0 758436.1078167064 0.0\n"
     ]
    }
   ],
   "source": [
    "MSE_base = mean_squared_error(predictions.actual_value, predictions.baseline)\n",
    "SSE_base = MSE_base * len(predictions.actual_value)\n",
    "RMSE_base = sqrt(MSE_base)\n",
    "r2_base = r2_score(predictions.actual_value, predictions.baseline)\n",
    "print(MSE_base, SSE_base, RMSE_base, r2_base)"
   ]
  },
  {
   "cell_type": "markdown",
   "metadata": {},
   "source": [
    "#### Model Error"
   ]
  },
  {
   "cell_type": "code",
   "execution_count": 15,
   "metadata": {},
   "outputs": [
    {
     "name": "stdout",
     "output_type": "stream",
     "text": [
      "356640202824.1915 4248654736244593.5 597193.6058132167 0.37999913347471004\n"
     ]
    }
   ],
   "source": [
    "MSE_1 = mean_squared_error(predictions.actual_value, predictions.model1)\n",
    "SSE_1 = MSE_1 * len(predictions.actual_value)\n",
    "RMSE_1 = sqrt(MSE_1)\n",
    "r2_1 = r2_score(predictions.actual_value, predictions.model1)\n",
    "print(MSE_1,SSE_1,RMSE_1,r2_1)"
   ]
  },
  {
   "cell_type": "markdown",
   "metadata": {},
   "source": [
    "I created a data frame to show the differences between the baseline model and scaled model to see side-by-side, and the amount of error between the two models."
   ]
  },
  {
   "cell_type": "code",
   "execution_count": 16,
   "metadata": {},
   "outputs": [
    {
     "data": {
      "text/html": [
       "<div>\n",
       "<style scoped>\n",
       "    .dataframe tbody tr th:only-of-type {\n",
       "        vertical-align: middle;\n",
       "    }\n",
       "\n",
       "    .dataframe tbody tr th {\n",
       "        vertical-align: top;\n",
       "    }\n",
       "\n",
       "    .dataframe thead th {\n",
       "        text-align: right;\n",
       "    }\n",
       "</style>\n",
       "<table border=\"1\" class=\"dataframe\">\n",
       "  <thead>\n",
       "    <tr style=\"text-align: right;\">\n",
       "      <th></th>\n",
       "      <th>metric</th>\n",
       "      <th>baseline_error</th>\n",
       "      <th>model_error</th>\n",
       "      <th>error_delta</th>\n",
       "    </tr>\n",
       "  </thead>\n",
       "  <tbody>\n",
       "    <tr>\n",
       "      <th>0</th>\n",
       "      <td>SSE</td>\n",
       "      <td>6.852659e+15</td>\n",
       "      <td>4.248655e+15</td>\n",
       "      <td>-2.604005e+15</td>\n",
       "    </tr>\n",
       "    <tr>\n",
       "      <th>1</th>\n",
       "      <td>MSE</td>\n",
       "      <td>5.752253e+11</td>\n",
       "      <td>3.566402e+11</td>\n",
       "      <td>-2.185851e+11</td>\n",
       "    </tr>\n",
       "    <tr>\n",
       "      <th>2</th>\n",
       "      <td>RMSE</td>\n",
       "      <td>7.584361e+05</td>\n",
       "      <td>5.971936e+05</td>\n",
       "      <td>-1.612425e+05</td>\n",
       "    </tr>\n",
       "    <tr>\n",
       "      <th>3</th>\n",
       "      <td>R^2</td>\n",
       "      <td>0.000000e+00</td>\n",
       "      <td>3.799991e-01</td>\n",
       "      <td>3.799991e-01</td>\n",
       "    </tr>\n",
       "  </tbody>\n",
       "</table>\n",
       "</div>"
      ],
      "text/plain": [
       "  metric  baseline_error   model_error   error_delta\n",
       "0    SSE    6.852659e+15  4.248655e+15 -2.604005e+15\n",
       "1    MSE    5.752253e+11  3.566402e+11 -2.185851e+11\n",
       "2   RMSE    7.584361e+05  5.971936e+05 -1.612425e+05\n",
       "3    R^2    0.000000e+00  3.799991e-01  3.799991e-01"
      ]
     },
     "execution_count": 16,
     "metadata": {},
     "output_type": "execute_result"
    }
   ],
   "source": [
    "df_eval = pd.DataFrame(np.array(['SSE','MSE','RMSE', 'R^2']), columns=['metric'])\n",
    "df_eval['baseline_error'] = np.array([SSE_base, MSE_base, RMSE_base, r2_base])\n",
    "df_eval['model_error'] = np.array([SSE_1, MSE_1, RMSE_1, r2_1])\n",
    "df_eval['error_delta'] = df_eval.model_error - df_eval.baseline_error\n",
    "df_eval"
   ]
  },
  {
   "cell_type": "markdown",
   "metadata": {},
   "source": [
    "## Conclusions\n",
    "With an R^2 value of about 38%, you can see that the Linear Regression model does better with the three choosen features than the baseline model."
   ]
  },
  {
   "cell_type": "code",
   "execution_count": 95,
   "metadata": {},
   "outputs": [
    {
     "ename": "AttributeError",
     "evalue": "'LinearRegression' object has no attribute 'ravel'",
     "output_type": "error",
     "traceback": [
      "\u001b[0;31m---------------------------------------------------------------------------\u001b[0m",
      "\u001b[0;31mAttributeError\u001b[0m                            Traceback (most recent call last)",
      "\u001b[0;32m<ipython-input-95-66b420643fbb>\u001b[0m in \u001b[0;36m<module>\u001b[0;34m\u001b[0m\n\u001b[1;32m     20\u001b[0m     \u001b[0;32mreturn\u001b[0m \u001b[0mplot\u001b[0m\u001b[0;34m\u001b[0m\u001b[0;34m\u001b[0m\u001b[0m\n\u001b[1;32m     21\u001b[0m \u001b[0;34m\u001b[0m\u001b[0m\n\u001b[0;32m---> 22\u001b[0;31m \u001b[0mplot_linear_model\u001b[0m\u001b[0;34m(\u001b[0m\u001b[0mactuals\u001b[0m\u001b[0;34m,\u001b[0m \u001b[0mmodel1\u001b[0m\u001b[0;34m,\u001b[0m \u001b[0mbaseline\u001b[0m\u001b[0;34m)\u001b[0m\u001b[0;34m\u001b[0m\u001b[0;34m\u001b[0m\u001b[0m\n\u001b[0m",
      "\u001b[0;32m<ipython-input-95-66b420643fbb>\u001b[0m in \u001b[0;36mplot_linear_model\u001b[0;34m(actuals, model1_predictions, baseline)\u001b[0m\n\u001b[1;32m     11\u001b[0m \u001b[0;32mdef\u001b[0m \u001b[0mplot_linear_model\u001b[0m\u001b[0;34m(\u001b[0m\u001b[0mactuals\u001b[0m\u001b[0;34m,\u001b[0m \u001b[0mmodel1_predictions\u001b[0m\u001b[0;34m,\u001b[0m \u001b[0mbaseline\u001b[0m\u001b[0;34m)\u001b[0m\u001b[0;34m:\u001b[0m\u001b[0;34m\u001b[0m\u001b[0;34m\u001b[0m\u001b[0m\n\u001b[1;32m     12\u001b[0m     plot = pd.DataFrame({'actual': actuals,\n\u001b[0;32m---> 13\u001b[0;31m                 \u001b[0;34m'linear model'\u001b[0m\u001b[0;34m:\u001b[0m \u001b[0mmodel1_predictions\u001b[0m\u001b[0;34m.\u001b[0m\u001b[0mravel\u001b[0m\u001b[0;34m(\u001b[0m\u001b[0;34m)\u001b[0m\u001b[0;34m,\u001b[0m\u001b[0;34m\u001b[0m\u001b[0;34m\u001b[0m\u001b[0m\n\u001b[0m\u001b[1;32m     14\u001b[0m                 'baseline': baseline.ravel()})\\\n\u001b[1;32m     15\u001b[0m     \u001b[0;34m.\u001b[0m\u001b[0mmelt\u001b[0m\u001b[0;34m(\u001b[0m\u001b[0mid_vars\u001b[0m\u001b[0;34m=\u001b[0m\u001b[0;34m[\u001b[0m\u001b[0;34m'actual'\u001b[0m\u001b[0;34m]\u001b[0m\u001b[0;34m,\u001b[0m \u001b[0mvar_name\u001b[0m\u001b[0;34m=\u001b[0m\u001b[0;34m'model'\u001b[0m\u001b[0;34m,\u001b[0m \u001b[0mvalue_name\u001b[0m\u001b[0;34m=\u001b[0m\u001b[0;34m'prediction'\u001b[0m\u001b[0;34m)\u001b[0m\u001b[0;31m\\\u001b[0m\u001b[0;34m\u001b[0m\u001b[0;34m\u001b[0m\u001b[0m\n",
      "\u001b[0;31mAttributeError\u001b[0m: 'LinearRegression' object has no attribute 'ravel'"
     ]
    }
   ],
   "source": [
    "model1 = LinearRegression()\n",
    "model1.fit(x_train, y_train)\n",
    "model1_predictions = model1.predict(x_train)\n",
    "predictions['model1'] = model1_predictions\n",
    "\n",
    "baseline = y_train.mean()\n",
    "\n",
    "actuals = y_train.home_value\n",
    "\n",
    "\n",
    "def plot_linear_model(actuals, model1_predictions, baseline):\n",
    "    plot = pd.DataFrame({'actual': actuals,\n",
    "                'linear model': model1_predictions.ravel(),\n",
    "                'baseline': baseline.ravel()})\\\n",
    "    .melt(id_vars=['actual'], var_name='model', value_name='prediction')\\\n",
    "    .pipe((sns.relplot, 'data'), x='actual', y='prediction', hue='model')\n",
    "    \n",
    "    plt.plot([predictions.actuals.min(),predictions.actuals.max()],[predictions.lm.min(),predictions.lm.max()], \\\n",
    "    c='black', ls=':', linewidth = 3)\n",
    "    return plot\n",
    "\n",
    "plot_linear_model(actuals, model1, baseline)"
   ]
  }
 ],
 "metadata": {
  "kernelspec": {
   "display_name": "Python 3",
   "language": "python",
   "name": "python3"
  },
  "language_info": {
   "codemirror_mode": {
    "name": "ipython",
    "version": 3
   },
   "file_extension": ".py",
   "mimetype": "text/x-python",
   "name": "python",
   "nbconvert_exporter": "python",
   "pygments_lexer": "ipython3",
   "version": "3.7.3"
  }
 },
 "nbformat": 4,
 "nbformat_minor": 2
}
