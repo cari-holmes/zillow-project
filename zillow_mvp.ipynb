{
 "cells": [
  {
   "cell_type": "markdown",
   "metadata": {},
   "source": [
    "## Estimate Home Values in Zillow"
   ]
  },
  {
   "cell_type": "markdown",
   "metadata": {},
   "source": [
    "#### Goals:\n",
    "\n",
    "Your customer is the zillow data science team. state your goals as if you were delivering this to zillow. They have asked for something from you and you are basically communicating in a more concise way, and very clearly, the goals as you understand them and as you have taken and acted upon through your research."
   ]
  },
  {
   "cell_type": "markdown",
   "metadata": {},
   "source": [
    "Add outline of project here"
   ]
  },
  {
   "cell_type": "markdown",
   "metadata": {},
   "source": [
    "#### Import\n",
    "Import the necessay libraries needed to create a baseline model and then predict home values. Add libraries as needed."
   ]
  },
  {
   "cell_type": "code",
   "execution_count": 1,
   "metadata": {},
   "outputs": [],
   "source": [
    "import pandas as pd\n",
    "import numpy as np\n",
    "import matplotlib.pyplot as plt\n",
    "import seaborn as sns\n",
    "from sklearn.model_selection import train_test_split\n",
    "from sklearn.preprocessing import StandardScaler, MinMaxScaler\n",
    "from sklearn.metrics import mean_squared_error, r2_score, explained_variance_score\n",
    "from sklearn.linear_model import LinearRegression\n",
    "from math import sqrt\n",
    "import warnings\n",
    "warnings.filterwarnings(\"ignore\")\n",
    "\n",
    "import env\n",
    "import wrangle\n",
    "import split_scale\n",
    "import features"
   ]
  },
  {
   "cell_type": "markdown",
   "metadata": {},
   "source": [
    "In this step, I loaded cleaned Zillow data from my wrangle.py file and explored it for a better understanding of what I am working with. The clean up proccess eliminated null values and changed data types to types more appropriate for the column contents."
   ]
  },
  {
   "cell_type": "code",
   "execution_count": 2,
   "metadata": {},
   "outputs": [
    {
     "data": {
      "text/plain": [
       "(14892, 10)"
      ]
     },
     "execution_count": 2,
     "metadata": {},
     "output_type": "execute_result"
    }
   ],
   "source": [
    "df = wrangle.wrangle_zillow()\n",
    "df.shape"
   ]
  },
  {
   "cell_type": "markdown",
   "metadata": {},
   "source": [
    "Summary Statistics of data"
   ]
  },
  {
   "cell_type": "code",
   "execution_count": 3,
   "metadata": {},
   "outputs": [
    {
     "data": {
      "text/html": [
       "<div>\n",
       "<style scoped>\n",
       "    .dataframe tbody tr th:only-of-type {\n",
       "        vertical-align: middle;\n",
       "    }\n",
       "\n",
       "    .dataframe tbody tr th {\n",
       "        vertical-align: top;\n",
       "    }\n",
       "\n",
       "    .dataframe thead th {\n",
       "        text-align: right;\n",
       "    }\n",
       "</style>\n",
       "<table border=\"1\" class=\"dataframe\">\n",
       "  <thead>\n",
       "    <tr style=\"text-align: right;\">\n",
       "      <th></th>\n",
       "      <th>bedroom</th>\n",
       "      <th>bathroom</th>\n",
       "      <th>lot_size</th>\n",
       "      <th>square_feet</th>\n",
       "      <th>tax_amount</th>\n",
       "      <th>home_value</th>\n",
       "      <th>property_id</th>\n",
       "      <th>fips</th>\n",
       "    </tr>\n",
       "  </thead>\n",
       "  <tbody>\n",
       "    <tr>\n",
       "      <th>count</th>\n",
       "      <td>14892.000000</td>\n",
       "      <td>14892.000000</td>\n",
       "      <td>1.489200e+04</td>\n",
       "      <td>14892.000000</td>\n",
       "      <td>14892.000000</td>\n",
       "      <td>1.489200e+04</td>\n",
       "      <td>14892.0</td>\n",
       "      <td>14892.000000</td>\n",
       "    </tr>\n",
       "    <tr>\n",
       "      <th>mean</th>\n",
       "      <td>3.316143</td>\n",
       "      <td>2.324302</td>\n",
       "      <td>1.053110e+04</td>\n",
       "      <td>1938.497045</td>\n",
       "      <td>6564.370992</td>\n",
       "      <td>5.396460e+05</td>\n",
       "      <td>261.0</td>\n",
       "      <td>6049.448429</td>\n",
       "    </tr>\n",
       "    <tr>\n",
       "      <th>std</th>\n",
       "      <td>0.926831</td>\n",
       "      <td>1.014254</td>\n",
       "      <td>2.937957e+04</td>\n",
       "      <td>992.488089</td>\n",
       "      <td>8428.010576</td>\n",
       "      <td>7.290735e+05</td>\n",
       "      <td>0.0</td>\n",
       "      <td>21.272489</td>\n",
       "    </tr>\n",
       "    <tr>\n",
       "      <th>min</th>\n",
       "      <td>1.000000</td>\n",
       "      <td>1.000000</td>\n",
       "      <td>5.940000e+02</td>\n",
       "      <td>300.000000</td>\n",
       "      <td>51.260000</td>\n",
       "      <td>1.050400e+04</td>\n",
       "      <td>261.0</td>\n",
       "      <td>6037.000000</td>\n",
       "    </tr>\n",
       "    <tr>\n",
       "      <th>25%</th>\n",
       "      <td>3.000000</td>\n",
       "      <td>2.000000</td>\n",
       "      <td>5.594000e+03</td>\n",
       "      <td>1276.000000</td>\n",
       "      <td>2710.622500</td>\n",
       "      <td>1.991870e+05</td>\n",
       "      <td>261.0</td>\n",
       "      <td>6037.000000</td>\n",
       "    </tr>\n",
       "    <tr>\n",
       "      <th>50%</th>\n",
       "      <td>3.000000</td>\n",
       "      <td>2.000000</td>\n",
       "      <td>6.869000e+03</td>\n",
       "      <td>1678.000000</td>\n",
       "      <td>4762.040000</td>\n",
       "      <td>3.847785e+05</td>\n",
       "      <td>261.0</td>\n",
       "      <td>6037.000000</td>\n",
       "    </tr>\n",
       "    <tr>\n",
       "      <th>75%</th>\n",
       "      <td>4.000000</td>\n",
       "      <td>3.000000</td>\n",
       "      <td>8.865250e+03</td>\n",
       "      <td>2342.250000</td>\n",
       "      <td>7637.557500</td>\n",
       "      <td>6.435572e+05</td>\n",
       "      <td>261.0</td>\n",
       "      <td>6059.000000</td>\n",
       "    </tr>\n",
       "    <tr>\n",
       "      <th>max</th>\n",
       "      <td>11.000000</td>\n",
       "      <td>11.000000</td>\n",
       "      <td>1.323788e+06</td>\n",
       "      <td>15450.000000</td>\n",
       "      <td>276797.830000</td>\n",
       "      <td>2.385837e+07</td>\n",
       "      <td>261.0</td>\n",
       "      <td>6111.000000</td>\n",
       "    </tr>\n",
       "  </tbody>\n",
       "</table>\n",
       "</div>"
      ],
      "text/plain": [
       "            bedroom      bathroom      lot_size   square_feet     tax_amount  \\\n",
       "count  14892.000000  14892.000000  1.489200e+04  14892.000000   14892.000000   \n",
       "mean       3.316143      2.324302  1.053110e+04   1938.497045    6564.370992   \n",
       "std        0.926831      1.014254  2.937957e+04    992.488089    8428.010576   \n",
       "min        1.000000      1.000000  5.940000e+02    300.000000      51.260000   \n",
       "25%        3.000000      2.000000  5.594000e+03   1276.000000    2710.622500   \n",
       "50%        3.000000      2.000000  6.869000e+03   1678.000000    4762.040000   \n",
       "75%        4.000000      3.000000  8.865250e+03   2342.250000    7637.557500   \n",
       "max       11.000000     11.000000  1.323788e+06  15450.000000  276797.830000   \n",
       "\n",
       "         home_value  property_id          fips  \n",
       "count  1.489200e+04      14892.0  14892.000000  \n",
       "mean   5.396460e+05        261.0   6049.448429  \n",
       "std    7.290735e+05          0.0     21.272489  \n",
       "min    1.050400e+04        261.0   6037.000000  \n",
       "25%    1.991870e+05        261.0   6037.000000  \n",
       "50%    3.847785e+05        261.0   6037.000000  \n",
       "75%    6.435572e+05        261.0   6059.000000  \n",
       "max    2.385837e+07        261.0   6111.000000  "
      ]
     },
     "execution_count": 3,
     "metadata": {},
     "output_type": "execute_result"
    }
   ],
   "source": [
    "df.describe()"
   ]
  },
  {
   "cell_type": "markdown",
   "metadata": {},
   "source": [
    "Summary of data frame"
   ]
  },
  {
   "cell_type": "code",
   "execution_count": 4,
   "metadata": {},
   "outputs": [
    {
     "name": "stdout",
     "output_type": "stream",
     "text": [
      "<class 'pandas.core.frame.DataFrame'>\n",
      "Int64Index: 14892 entries, 0 to 14892\n",
      "Data columns (total 10 columns):\n",
      "bedroom             14892 non-null int64\n",
      "bathroom            14892 non-null float64\n",
      "lot_size            14892 non-null int64\n",
      "square_feet         14892 non-null int64\n",
      "tax_amount          14892 non-null float64\n",
      "home_value          14892 non-null int64\n",
      "property_id         14892 non-null int64\n",
      "property_type       14892 non-null object\n",
      "fips                14892 non-null int64\n",
      "transaction_date    14892 non-null object\n",
      "dtypes: float64(2), int64(6), object(2)\n",
      "memory usage: 1.2+ MB\n"
     ]
    }
   ],
   "source": [
    "df.info()"
   ]
  },
  {
   "cell_type": "markdown",
   "metadata": {},
   "source": [
    "#### Splitting the Data\n",
    "I used a split function I created, located in a split_scale.py file to split the data into two peices, train and test. The training data will be 80% of the data and the remaining 20% will be for the test data. I set a random seed at '123'."
   ]
  },
  {
   "cell_type": "code",
   "execution_count": 5,
   "metadata": {},
   "outputs": [
    {
     "data": {
      "text/plain": [
       "(       bedroom  bathroom  lot_size  square_feet  tax_amount  home_value  \\\n",
       " 7040         2       3.0      9376         2353    13560.29     1121784   \n",
       " 4866         3       1.0      5061         1085     2581.75      194062   \n",
       " 2280         3       2.0      7588         1873     4301.71      339756   \n",
       " 12524        4       3.0      7969         2082     4443.44      376676   \n",
       " 10726        4       3.5      8000         4364     8876.72      875357   \n",
       " \n",
       "        property_id              property_type  fips transaction_date  \n",
       " 7040           261  Single Family Residential  6037       2017-06-19  \n",
       " 4866           261  Single Family Residential  6037       2017-06-02  \n",
       " 2280           261  Single Family Residential  6037       2017-05-16  \n",
       " 12524          261  Single Family Residential  6059       2017-06-16  \n",
       " 10726          261  Single Family Residential  6059       2017-05-19  ,\n",
       "        bedroom  bathroom  lot_size  square_feet  tax_amount  home_value  \\\n",
       " 13487        5       3.0      6000         2504     6257.24      534030   \n",
       " 6070         3       1.0      5011         1044      882.97       32666   \n",
       " 4688         3       2.0      6570         1215     2437.92      185287   \n",
       " 8381         2       1.0      6624         1082     5066.89      408898   \n",
       " 6079         3       2.0      6928         1453     3589.25      288579   \n",
       " \n",
       "        property_id              property_type  fips transaction_date  \n",
       " 13487          261  Single Family Residential  6059       2017-06-30  \n",
       " 6070           261  Single Family Residential  6037       2017-06-13  \n",
       " 4688           261  Single Family Residential  6037       2017-06-01  \n",
       " 8381           261  Single Family Residential  6037       2017-06-27  \n",
       " 6079           261  Single Family Residential  6037       2017-06-13  )"
      ]
     },
     "execution_count": 5,
     "metadata": {},
     "output_type": "execute_result"
    }
   ],
   "source": [
    "train, test = split_scale.split_my_data(df, train_pct=.80, random_state=123)\n",
    "train.head(), test.head()"
   ]
  },
  {
   "cell_type": "markdown",
   "metadata": {},
   "source": [
    "I then split the train and test pieces even further to establish an 'x' and 'y' variable for both. To establish a baseline, I chose to look at three features in particular, the bedroom count, the bathroom count, and the total square footage of the house. I am assigning the home value as my target variable, since that is what I am looking to predict. "
   ]
  },
  {
   "cell_type": "code",
   "execution_count": 6,
   "metadata": {},
   "outputs": [
    {
     "name": "stdout",
     "output_type": "stream",
     "text": [
      "       bedroom  bathroom  square_feet\n",
      "7040         2       3.0         2353\n",
      "4866         3       1.0         1085\n",
      "2280         3       2.0         1873\n",
      "12524        4       3.0         2082\n",
      "10726        4       3.5         4364\n",
      "       home_value\n",
      "7040      1121784\n",
      "4866       194062\n",
      "2280       339756\n",
      "12524      376676\n",
      "10726      875357\n"
     ]
    }
   ],
   "source": [
    "x_train = train[['bedroom', 'bathroom', 'square_feet']]\n",
    "y_train = train[['home_value']]\n",
    "x_test = train[['bedroom', 'bathroom', 'square_feet']]\n",
    "y_test = train[['home_value']]\n",
    "print(x_train.head())\n",
    "print(y_train.head())"
   ]
  },
  {
   "cell_type": "markdown",
   "metadata": {},
   "source": [
    "#### Scale the data using Standard Scale\n",
    "I am using the Standard Scaler function from the split_scale.py file to scale the data so the difference between square feet and the bedroom/bathroom count can work from the same scale. I am only scaling the x_train and x_test features."
   ]
  },
  {
   "cell_type": "code",
   "execution_count": 7,
   "metadata": {},
   "outputs": [
    {
     "data": {
      "text/plain": [
       "StandardScaler(copy=True, with_mean=True, with_std=True)"
      ]
     },
     "execution_count": 7,
     "metadata": {},
     "output_type": "execute_result"
    }
   ],
   "source": [
    "scaler, x_train, x_test = split_scale.standard_scaler(x_train, x_test)\n",
    "scaler"
   ]
  },
  {
   "cell_type": "code",
   "execution_count": 8,
   "metadata": {},
   "outputs": [
    {
     "data": {
      "text/html": [
       "<div>\n",
       "<style scoped>\n",
       "    .dataframe tbody tr th:only-of-type {\n",
       "        vertical-align: middle;\n",
       "    }\n",
       "\n",
       "    .dataframe tbody tr th {\n",
       "        vertical-align: top;\n",
       "    }\n",
       "\n",
       "    .dataframe thead th {\n",
       "        text-align: right;\n",
       "    }\n",
       "</style>\n",
       "<table border=\"1\" class=\"dataframe\">\n",
       "  <thead>\n",
       "    <tr style=\"text-align: right;\">\n",
       "      <th></th>\n",
       "      <th>bedroom</th>\n",
       "      <th>bathroom</th>\n",
       "      <th>square_feet</th>\n",
       "    </tr>\n",
       "  </thead>\n",
       "  <tbody>\n",
       "    <tr>\n",
       "      <th>7040</th>\n",
       "      <td>-1.410430</td>\n",
       "      <td>0.661645</td>\n",
       "      <td>0.406343</td>\n",
       "    </tr>\n",
       "    <tr>\n",
       "      <th>4866</th>\n",
       "      <td>-0.338366</td>\n",
       "      <td>-1.299218</td>\n",
       "      <td>-0.853773</td>\n",
       "    </tr>\n",
       "    <tr>\n",
       "      <th>2280</th>\n",
       "      <td>-0.338366</td>\n",
       "      <td>-0.318786</td>\n",
       "      <td>-0.070673</td>\n",
       "    </tr>\n",
       "    <tr>\n",
       "      <th>12524</th>\n",
       "      <td>0.733697</td>\n",
       "      <td>0.661645</td>\n",
       "      <td>0.137028</td>\n",
       "    </tr>\n",
       "    <tr>\n",
       "      <th>10726</th>\n",
       "      <td>0.733697</td>\n",
       "      <td>1.151861</td>\n",
       "      <td>2.404839</td>\n",
       "    </tr>\n",
       "  </tbody>\n",
       "</table>\n",
       "</div>"
      ],
      "text/plain": [
       "        bedroom  bathroom  square_feet\n",
       "7040  -1.410430  0.661645     0.406343\n",
       "4866  -0.338366 -1.299218    -0.853773\n",
       "2280  -0.338366 -0.318786    -0.070673\n",
       "12524  0.733697  0.661645     0.137028\n",
       "10726  0.733697  1.151861     2.404839"
      ]
     },
     "execution_count": 8,
     "metadata": {},
     "output_type": "execute_result"
    }
   ],
   "source": [
    "x_train.head()"
   ]
  },
  {
   "cell_type": "markdown",
   "metadata": {},
   "source": [
    "Using a modeling function, I create a new data frame, 'predictions', to establish a baseline model by taking the mean of my target, home value. I then plug my scaled data into a Linear Regression model within the function and that is added to the newly created data frame. The data frame then outputs the target predictions."
   ]
  },
  {
   "cell_type": "code",
   "execution_count": 9,
   "metadata": {},
   "outputs": [],
   "source": [
    "def modeling_function(x_train, x_test, y_train, y_test):\n",
    "    predictions=pd.DataFrame({'actual_value':y_train.home_value}).reset_index(drop=True)\n",
    "    predictions['baseline'] = y_train.mean()[0]    \n",
    "    \n",
    "    # model 1\n",
    "    model1 = LinearRegression()\n",
    "    model1.fit(x_train, y_train)\n",
    "    model1_predictions = model1.predict(x_train)\n",
    "    predictions['model1'] = model1_predictions\n",
    "    \n",
    "    return predictions"
   ]
  },
  {
   "cell_type": "code",
   "execution_count": 10,
   "metadata": {},
   "outputs": [],
   "source": [
    "predictions = modeling_function(x_train, x_test, y_train, y_test)"
   ]
  },
  {
   "cell_type": "code",
   "execution_count": 11,
   "metadata": {},
   "outputs": [
    {
     "data": {
      "text/html": [
       "<div>\n",
       "<style scoped>\n",
       "    .dataframe tbody tr th:only-of-type {\n",
       "        vertical-align: middle;\n",
       "    }\n",
       "\n",
       "    .dataframe tbody tr th {\n",
       "        vertical-align: top;\n",
       "    }\n",
       "\n",
       "    .dataframe thead th {\n",
       "        text-align: right;\n",
       "    }\n",
       "</style>\n",
       "<table border=\"1\" class=\"dataframe\">\n",
       "  <thead>\n",
       "    <tr style=\"text-align: right;\">\n",
       "      <th></th>\n",
       "      <th>actual_value</th>\n",
       "      <th>baseline</th>\n",
       "      <th>model1</th>\n",
       "    </tr>\n",
       "  </thead>\n",
       "  <tbody>\n",
       "    <tr>\n",
       "      <th>0</th>\n",
       "      <td>1121784</td>\n",
       "      <td>544122.62948</td>\n",
       "      <td>9.833761e+05</td>\n",
       "    </tr>\n",
       "    <tr>\n",
       "      <th>1</th>\n",
       "      <td>194062</td>\n",
       "      <td>544122.62948</td>\n",
       "      <td>9.831026e+04</td>\n",
       "    </tr>\n",
       "    <tr>\n",
       "      <th>2</th>\n",
       "      <td>339756</td>\n",
       "      <td>544122.62948</td>\n",
       "      <td>5.410204e+05</td>\n",
       "    </tr>\n",
       "    <tr>\n",
       "      <th>3</th>\n",
       "      <td>376676</td>\n",
       "      <td>544122.62948</td>\n",
       "      <td>5.412151e+05</td>\n",
       "    </tr>\n",
       "    <tr>\n",
       "      <th>4</th>\n",
       "      <td>875357</td>\n",
       "      <td>544122.62948</td>\n",
       "      <td>1.705229e+06</td>\n",
       "    </tr>\n",
       "  </tbody>\n",
       "</table>\n",
       "</div>"
      ],
      "text/plain": [
       "   actual_value      baseline        model1\n",
       "0       1121784  544122.62948  9.833761e+05\n",
       "1        194062  544122.62948  9.831026e+04\n",
       "2        339756  544122.62948  5.410204e+05\n",
       "3        376676  544122.62948  5.412151e+05\n",
       "4        875357  544122.62948  1.705229e+06"
      ]
     },
     "execution_count": 11,
     "metadata": {},
     "output_type": "execute_result"
    }
   ],
   "source": [
    "predictions.head()"
   ]
  },
  {
   "cell_type": "markdown",
   "metadata": {},
   "source": [
    "#### Evaluate scaled model compared to the baseline model."
   ]
  },
  {
   "cell_type": "code",
   "execution_count": 12,
   "metadata": {},
   "outputs": [
    {
     "name": "stdout",
     "output_type": "stream",
     "text": [
      "575225329640.1548 6852659352003164.0 758436.1078167064 0.0\n"
     ]
    }
   ],
   "source": [
    "MSE_base = mean_squared_error(predictions.actual_value, predictions.baseline)\n",
    "SSE_base = MSE_base * len(predictions.actual_value)\n",
    "RMSE_base = sqrt(MSE_base)\n",
    "r2_base = r2_score(predictions.actual_value, predictions.baseline)\n",
    "print(MSE_base, SSE_base, RMSE_base, r2_base)"
   ]
  },
  {
   "cell_type": "markdown",
   "metadata": {},
   "source": [
    "#### Model Error"
   ]
  },
  {
   "cell_type": "code",
   "execution_count": 13,
   "metadata": {},
   "outputs": [
    {
     "name": "stdout",
     "output_type": "stream",
     "text": [
      "356640202824.1915 4248654736244593.5 597193.6058132167 0.37999913347471004\n"
     ]
    }
   ],
   "source": [
    "MSE_1 = mean_squared_error(predictions.actual_value, predictions.model1)\n",
    "SSE_1 = MSE_1 * len(predictions.actual_value)\n",
    "RMSE_1 = sqrt(MSE_1)\n",
    "r2_1 = r2_score(predictions.actual_value, predictions.model1)\n",
    "print(MSE_1,SSE_1,RMSE_1,r2_1)"
   ]
  },
  {
   "cell_type": "markdown",
   "metadata": {},
   "source": [
    "I created a data frame to show the differences between the baseline model and scaled model to see side-by-side."
   ]
  },
  {
   "cell_type": "code",
   "execution_count": 14,
   "metadata": {},
   "outputs": [
    {
     "data": {
      "text/html": [
       "<div>\n",
       "<style scoped>\n",
       "    .dataframe tbody tr th:only-of-type {\n",
       "        vertical-align: middle;\n",
       "    }\n",
       "\n",
       "    .dataframe tbody tr th {\n",
       "        vertical-align: top;\n",
       "    }\n",
       "\n",
       "    .dataframe thead th {\n",
       "        text-align: right;\n",
       "    }\n",
       "</style>\n",
       "<table border=\"1\" class=\"dataframe\">\n",
       "  <thead>\n",
       "    <tr style=\"text-align: right;\">\n",
       "      <th></th>\n",
       "      <th>metric</th>\n",
       "      <th>baseline_error</th>\n",
       "      <th>model_error</th>\n",
       "      <th>error_delta</th>\n",
       "    </tr>\n",
       "  </thead>\n",
       "  <tbody>\n",
       "    <tr>\n",
       "      <th>0</th>\n",
       "      <td>SSE</td>\n",
       "      <td>6.852659e+15</td>\n",
       "      <td>4.248655e+15</td>\n",
       "      <td>-2.604005e+15</td>\n",
       "    </tr>\n",
       "    <tr>\n",
       "      <th>1</th>\n",
       "      <td>MSE</td>\n",
       "      <td>5.752253e+11</td>\n",
       "      <td>3.566402e+11</td>\n",
       "      <td>-2.185851e+11</td>\n",
       "    </tr>\n",
       "    <tr>\n",
       "      <th>2</th>\n",
       "      <td>RMSE</td>\n",
       "      <td>7.584361e+05</td>\n",
       "      <td>5.971936e+05</td>\n",
       "      <td>-1.612425e+05</td>\n",
       "    </tr>\n",
       "    <tr>\n",
       "      <th>3</th>\n",
       "      <td>R^2</td>\n",
       "      <td>0.000000e+00</td>\n",
       "      <td>3.799991e-01</td>\n",
       "      <td>3.799991e-01</td>\n",
       "    </tr>\n",
       "  </tbody>\n",
       "</table>\n",
       "</div>"
      ],
      "text/plain": [
       "  metric  baseline_error   model_error   error_delta\n",
       "0    SSE    6.852659e+15  4.248655e+15 -2.604005e+15\n",
       "1    MSE    5.752253e+11  3.566402e+11 -2.185851e+11\n",
       "2   RMSE    7.584361e+05  5.971936e+05 -1.612425e+05\n",
       "3    R^2    0.000000e+00  3.799991e-01  3.799991e-01"
      ]
     },
     "execution_count": 14,
     "metadata": {},
     "output_type": "execute_result"
    }
   ],
   "source": [
    "df_eval = pd.DataFrame(np.array(['SSE','MSE','RMSE', 'R^2']), columns=['metric'])\n",
    "df_eval['baseline_error'] = np.array([SSE_base, MSE_base, RMSE_base, r2_base])\n",
    "df_eval['model_error'] = np.array([SSE_1, MSE_1, RMSE_1, r2_1])\n",
    "df_eval['error_delta'] = df_eval.model_error - df_eval.baseline_error\n",
    "df_eval"
   ]
  },
  {
   "cell_type": "markdown",
   "metadata": {},
   "source": [
    "#### Exploration in Visualization\n",
    "move this up under scale"
   ]
  },
  {
   "cell_type": "code",
   "execution_count": 15,
   "metadata": {},
   "outputs": [
    {
     "data": {
      "text/plain": [
       "<seaborn.axisgrid.PairGrid at 0x1a1a1109b0>"
      ]
     },
     "execution_count": 15,
     "metadata": {},
     "output_type": "execute_result"
    },
    {
     "data": {
      "image/png": "[encoded data removed]",
      "text/plain": [
       "<Figure size 540x540 with 12 Axes>"
      ]
     },
     "metadata": {
      "needs_background": "light"
     },
     "output_type": "display_data"
    }
   ],
   "source": [
    "g = sns.PairGrid(x_train)\n",
    "g.map_diag(plt.hist)\n",
    "g.map_offdiag(plt.scatter)"
   ]
  },
  {
   "cell_type": "markdown",
   "metadata": {},
   "source": [
    "scaler lookup\n",
    "vis after scale thought process with scaler\n",
    "conclusions after evaluate"
   ]
  },
  {
   "cell_type": "markdown",
   "metadata": {},
   "source": [
    "#### County Distribution"
   ]
  },
  {
   "cell_type": "code",
   "execution_count": 16,
   "metadata": {},
   "outputs": [],
   "source": [
    "df['tax_rate'] = df['tax_amount']/df['home_value']"
   ]
  },
  {
   "cell_type": "code",
   "execution_count": 17,
   "metadata": {},
   "outputs": [
    {
     "data": {
      "text/html": [
       "<div>\n",
       "<style scoped>\n",
       "    .dataframe tbody tr th:only-of-type {\n",
       "        vertical-align: middle;\n",
       "    }\n",
       "\n",
       "    .dataframe tbody tr th {\n",
       "        vertical-align: top;\n",
       "    }\n",
       "\n",
       "    .dataframe thead th {\n",
       "        text-align: right;\n",
       "    }\n",
       "</style>\n",
       "<table border=\"1\" class=\"dataframe\">\n",
       "  <thead>\n",
       "    <tr style=\"text-align: right;\">\n",
       "      <th></th>\n",
       "      <th>bedroom</th>\n",
       "      <th>bathroom</th>\n",
       "      <th>lot_size</th>\n",
       "      <th>square_feet</th>\n",
       "      <th>tax_amount</th>\n",
       "      <th>home_value</th>\n",
       "      <th>property_id</th>\n",
       "      <th>property_type</th>\n",
       "      <th>fips</th>\n",
       "      <th>transaction_date</th>\n",
       "      <th>tax_rate</th>\n",
       "    </tr>\n",
       "  </thead>\n",
       "  <tbody>\n",
       "    <tr>\n",
       "      <th>0</th>\n",
       "      <td>3</td>\n",
       "      <td>2.0</td>\n",
       "      <td>8284</td>\n",
       "      <td>1458</td>\n",
       "      <td>2319.90</td>\n",
       "      <td>136104</td>\n",
       "      <td>261</td>\n",
       "      <td>Single Family Residential</td>\n",
       "      <td>6037</td>\n",
       "      <td>2017-06-23</td>\n",
       "      <td>0.017045</td>\n",
       "    </tr>\n",
       "    <tr>\n",
       "      <th>1</th>\n",
       "      <td>2</td>\n",
       "      <td>1.0</td>\n",
       "      <td>6707</td>\n",
       "      <td>1421</td>\n",
       "      <td>543.69</td>\n",
       "      <td>35606</td>\n",
       "      <td>261</td>\n",
       "      <td>Single Family Residential</td>\n",
       "      <td>6037</td>\n",
       "      <td>2017-06-30</td>\n",
       "      <td>0.015270</td>\n",
       "    </tr>\n",
       "    <tr>\n",
       "      <th>2</th>\n",
       "      <td>3</td>\n",
       "      <td>2.0</td>\n",
       "      <td>7300</td>\n",
       "      <td>1650</td>\n",
       "      <td>7673.19</td>\n",
       "      <td>614000</td>\n",
       "      <td>261</td>\n",
       "      <td>Single Family Residential</td>\n",
       "      <td>6037</td>\n",
       "      <td>2017-06-01</td>\n",
       "      <td>0.012497</td>\n",
       "    </tr>\n",
       "    <tr>\n",
       "      <th>3</th>\n",
       "      <td>2</td>\n",
       "      <td>1.0</td>\n",
       "      <td>2908</td>\n",
       "      <td>693</td>\n",
       "      <td>3267.47</td>\n",
       "      <td>274237</td>\n",
       "      <td>261</td>\n",
       "      <td>Single Family Residential</td>\n",
       "      <td>6037</td>\n",
       "      <td>2017-06-29</td>\n",
       "      <td>0.011915</td>\n",
       "    </tr>\n",
       "    <tr>\n",
       "      <th>4</th>\n",
       "      <td>3</td>\n",
       "      <td>2.0</td>\n",
       "      <td>6050</td>\n",
       "      <td>1108</td>\n",
       "      <td>5990.50</td>\n",
       "      <td>486866</td>\n",
       "      <td>261</td>\n",
       "      <td>Single Family Residential</td>\n",
       "      <td>6037</td>\n",
       "      <td>2017-05-17</td>\n",
       "      <td>0.012304</td>\n",
       "    </tr>\n",
       "  </tbody>\n",
       "</table>\n",
       "</div>"
      ],
      "text/plain": [
       "   bedroom  bathroom  lot_size  square_feet  tax_amount  home_value  \\\n",
       "0        3       2.0      8284         1458     2319.90      136104   \n",
       "1        2       1.0      6707         1421      543.69       35606   \n",
       "2        3       2.0      7300         1650     7673.19      614000   \n",
       "3        2       1.0      2908          693     3267.47      274237   \n",
       "4        3       2.0      6050         1108     5990.50      486866   \n",
       "\n",
       "   property_id              property_type  fips transaction_date  tax_rate  \n",
       "0          261  Single Family Residential  6037       2017-06-23  0.017045  \n",
       "1          261  Single Family Residential  6037       2017-06-30  0.015270  \n",
       "2          261  Single Family Residential  6037       2017-06-01  0.012497  \n",
       "3          261  Single Family Residential  6037       2017-06-29  0.011915  \n",
       "4          261  Single Family Residential  6037       2017-05-17  0.012304  "
      ]
     },
     "execution_count": 17,
     "metadata": {},
     "output_type": "execute_result"
    }
   ],
   "source": [
    "df.head()"
   ]
  },
  {
   "cell_type": "code",
   "execution_count": null,
   "metadata": {},
   "outputs": [],
   "source": []
  },
  {
   "cell_type": "markdown",
   "metadata": {},
   "source": [
    "t-test and correlation\n",
    "finish distribution\n"
   ]
  }
 ],
 "metadata": {
  "kernelspec": {
   "display_name": "Python 3",
   "language": "python",
   "name": "python3"
  },
  "language_info": {
   "codemirror_mode": {
    "name": "ipython",
    "version": 3
   },
   "file_extension": ".py",
   "mimetype": "text/x-python",
   "name": "python",
   "nbconvert_exporter": "python",
   "pygments_lexer": "ipython3",
   "version": "3.7.3"
  }
 },
 "nbformat": 4,
 "nbformat_minor": 2
}
